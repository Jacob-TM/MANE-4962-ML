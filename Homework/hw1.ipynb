{
 "cells": [
  {
   "cell_type": "markdown",
   "id": "0c54a043",
   "metadata": {},
   "source": [
    "Jacob Mitchell, RIN: 662025573"
   ]
  },
  {
   "cell_type": "markdown",
   "id": "2efa74d3",
   "metadata": {},
   "source": [
    "# Part 1\n",
    "\n",
    "(10 pts.) Consider feature vectors, \n",
    "$x_1 = \\begin{bmatrix} 2 & 3 & 4 & 8 & 9 \\end{bmatrix}^T$ \n",
    "and \n",
    "$x_2 = \\begin{bmatrix} 2 & -3 & -4 & 89 \\end{bmatrix}^T$.\n",
    "\n",
    "\n",
    "$\\quad$ **(a) How many features are there in $x_1$ and $x_2$?**  \n",
    "\n",
    "$\\quad\\quad$ $x_1$ has 5 features and $x_2$ has 4 features  \n",
    "  \n",
    "$\\quad$ **(b) What are the $L_1$, $L_2$, and $L_\\infty$ norms for each feature vector?**   \n",
    "\n",
    "$\\quad\\quad$ $L_1$ is found by adding each feature, $L_2$ by finding the magnitude, and $L_3$ by finding the max... thus:\n",
    "\n",
    "$\\quad\\quad$ For $x_1$, $L_1$ : 26, $L_2$ : 13.19, $L_3$ : 9  \n",
    "$\\quad\\quad$ For $x_2$, $L_1$ : 98, $L_2$ : 89.18, $L_3$ : 89"
   ]
  },
  {
   "cell_type": "markdown",
   "id": "d21b441e",
   "metadata": {},
   "source": [
    "# Part 2\n",
    "\n",
    "(20 pts.) A color image of size 1024x1024 is input to an algorithm which outputs a 64x64\n",
    "color image representing some important portions of the original image. [Hint: a color\n",
    "image comprises of multiple channels]\n",
    "\n",
    "\n",
    "$\\quad$ **(a) If the input is converted to a vector, 𝐱 , calculate the length of the feature vector.** \n",
    "\n",
    "$\\quad\\quad$ Because the image is 1024x1024 and a colored image has 3 channels (red, green, blue), the feature vector length is 1024x1024x3 = **3,145,728**\n",
    "  \n",
    "$\\quad$ **(b) If the output is converted to a vector, 𝐲, calculate the length of the output vector.**  \n",
    "\n",
    "$\\quad\\quad$ Same procedure as (a) except the output image is 64x64, therefore feature vector length is 64x64x3 = **12,288**\n",
    "\n",
    "$\\quad$ **(c) The algorithm relates the input and output vectors, 𝐱 and 𝐲 respectively, as 𝐲 = 𝑊𝐱 + 𝐛, where W is a matrix and 𝐛 is a vector. How many elements are there in matrix W? How many elements are in vector b?**  \n",
    "\n",
    "$\\quad\\quad$ Matrix **W** maps the 3,145,728 element vector to a 12,288 element vector, therefore matrix **W** must be 3,145,728x12,288 matrix containing $3.865*10^{10}$ elements. Element **b** should have the same shape as the y vector and thus would have 12,288 elements.\n"
   ]
  },
  {
   "cell_type": "markdown",
   "id": "dea367ac",
   "metadata": {},
   "source": [
    "# Part 3\n",
    "\n",
    "(10 pts.) Calculate 1-norm, 2-norm, ∞-norm, and Frobenius norm of\n",
    "\n",
    "# $$W = \\begin{bmatrix} 1 & -1 \\\\ 2 & 0 \\end{bmatrix}$$\n",
    "\n",
    "$\\quad$ **For matrices: $L_1$ is found by finding the max absolute column sum, $L_2$ by $\\sqrt{\\rho(A^TA)}$, $L_\\infty$ by same procedure as $L_2$ but with rows, and Frobenius form by finding the magnitude of the converted vector. Thus...**\n",
    "\n",
    "$\\quad$ **$L_1$: 3, $L_2$: 2.288, $L_3$: 2, $L_4$: 2.449**"
   ]
  },
  {
   "cell_type": "markdown",
   "id": "05a7debf",
   "metadata": {},
   "source": [
    "# Part 4\n",
    "\n",
    "(10 pts.) Use the Iris dataset and the code shown in class, but choose 3 out of the 4\n",
    "original features instead of two and calculate the accuracy score of classification."
   ]
  },
  {
   "cell_type": "code",
   "execution_count": 31,
   "id": "1b69e4ec",
   "metadata": {},
   "outputs": [
    {
     "name": "stdout",
     "output_type": "stream",
     "text": [
      "accuracy score : 0.9333333333333333\n"
     ]
    }
   ],
   "source": [
    "from sklearn import datasets\n",
    "from sklearn.metrics import accuracy_score\n",
    "from sklearn.model_selection import train_test_split\n",
    "from sklearn import svm\n",
    "\n",
    "\n",
    "iris = datasets.load_iris()\n",
    "X = iris.data[:, :3] # only selecting first two features\n",
    "y = iris.target\n",
    "\n",
    "X_train, X_test, y_train, y_test=train_test_split(\n",
    "    X,y,\n",
    "    test_size=0.40,\n",
    "    train_size=0.60,\n",
    "    random_state=123,\n",
    "    shuffle=True,\n",
    "    stratify=y)\n",
    "\n",
    "clf = svm.SVC()\n",
    "clf.fit(X_train, y_train)\n",
    "\n",
    "acc = accuracy_score(y_test,clf.predict(X_test) )\n",
    "print('accuracy score :', acc)"
   ]
  },
  {
   "cell_type": "markdown",
   "id": "98092d91",
   "metadata": {},
   "source": [
    "# Part 5\n",
    "\n",
    "(10 pts.) In class, we used a neural network to learn how to calculate square root. Use\n",
    "that code and ideas to teach a neural network how to calculate the 7-th root of any\n",
    "integer between 1 and 100."
   ]
  },
  {
   "cell_type": "code",
   "execution_count": 29,
   "id": "7aac1ba2",
   "metadata": {},
   "outputs": [
    {
     "data": {
      "text/html": [
       "<pre style=\"white-space:pre;overflow-x:auto;line-height:normal;font-family:Menlo,'DejaVu Sans Mono',consolas,'Courier New',monospace\"><span style=\"font-weight: bold\">Model: \"sequential_6\"</span>\n",
       "</pre>\n"
      ],
      "text/plain": [
       "\u001b[1mModel: \"sequential_6\"\u001b[0m\n"
      ]
     },
     "metadata": {},
     "output_type": "display_data"
    },
    {
     "data": {
      "text/html": [
       "<pre style=\"white-space:pre;overflow-x:auto;line-height:normal;font-family:Menlo,'DejaVu Sans Mono',consolas,'Courier New',monospace\">┏━━━━━━━━━━━━━━━━━━━━━━━━━━━━━━━━━━━━━━┳━━━━━━━━━━━━━━━━━━━━━━━━━━━━━┳━━━━━━━━━━━━━━━━━┓\n",
       "┃<span style=\"font-weight: bold\"> Layer (type)                         </span>┃<span style=\"font-weight: bold\"> Output Shape                </span>┃<span style=\"font-weight: bold\">         Param # </span>┃\n",
       "┡━━━━━━━━━━━━━━━━━━━━━━━━━━━━━━━━━━━━━━╇━━━━━━━━━━━━━━━━━━━━━━━━━━━━━╇━━━━━━━━━━━━━━━━━┩\n",
       "│ dense_27 (<span style=\"color: #0087ff; text-decoration-color: #0087ff\">Dense</span>)                     │ (<span style=\"color: #00d7ff; text-decoration-color: #00d7ff\">None</span>, <span style=\"color: #00af00; text-decoration-color: #00af00\">6</span>)                   │              <span style=\"color: #00af00; text-decoration-color: #00af00\">12</span> │\n",
       "├──────────────────────────────────────┼─────────────────────────────┼─────────────────┤\n",
       "│ dense_28 (<span style=\"color: #0087ff; text-decoration-color: #0087ff\">Dense</span>)                     │ (<span style=\"color: #00d7ff; text-decoration-color: #00d7ff\">None</span>, <span style=\"color: #00af00; text-decoration-color: #00af00\">6</span>)                   │              <span style=\"color: #00af00; text-decoration-color: #00af00\">42</span> │\n",
       "├──────────────────────────────────────┼─────────────────────────────┼─────────────────┤\n",
       "│ dense_29 (<span style=\"color: #0087ff; text-decoration-color: #0087ff\">Dense</span>)                     │ (<span style=\"color: #00d7ff; text-decoration-color: #00d7ff\">None</span>, <span style=\"color: #00af00; text-decoration-color: #00af00\">6</span>)                   │              <span style=\"color: #00af00; text-decoration-color: #00af00\">42</span> │\n",
       "├──────────────────────────────────────┼─────────────────────────────┼─────────────────┤\n",
       "│ dense_30 (<span style=\"color: #0087ff; text-decoration-color: #0087ff\">Dense</span>)                     │ (<span style=\"color: #00d7ff; text-decoration-color: #00d7ff\">None</span>, <span style=\"color: #00af00; text-decoration-color: #00af00\">6</span>)                   │              <span style=\"color: #00af00; text-decoration-color: #00af00\">42</span> │\n",
       "├──────────────────────────────────────┼─────────────────────────────┼─────────────────┤\n",
       "│ dense_31 (<span style=\"color: #0087ff; text-decoration-color: #0087ff\">Dense</span>)                     │ (<span style=\"color: #00d7ff; text-decoration-color: #00d7ff\">None</span>, <span style=\"color: #00af00; text-decoration-color: #00af00\">1</span>)                   │               <span style=\"color: #00af00; text-decoration-color: #00af00\">7</span> │\n",
       "└──────────────────────────────────────┴─────────────────────────────┴─────────────────┘\n",
       "</pre>\n"
      ],
      "text/plain": [
       "┏━━━━━━━━━━━━━━━━━━━━━━━━━━━━━━━━━━━━━━┳━━━━━━━━━━━━━━━━━━━━━━━━━━━━━┳━━━━━━━━━━━━━━━━━┓\n",
       "┃\u001b[1m \u001b[0m\u001b[1mLayer (type)                        \u001b[0m\u001b[1m \u001b[0m┃\u001b[1m \u001b[0m\u001b[1mOutput Shape               \u001b[0m\u001b[1m \u001b[0m┃\u001b[1m \u001b[0m\u001b[1m        Param #\u001b[0m\u001b[1m \u001b[0m┃\n",
       "┡━━━━━━━━━━━━━━━━━━━━━━━━━━━━━━━━━━━━━━╇━━━━━━━━━━━━━━━━━━━━━━━━━━━━━╇━━━━━━━━━━━━━━━━━┩\n",
       "│ dense_27 (\u001b[38;5;33mDense\u001b[0m)                     │ (\u001b[38;5;45mNone\u001b[0m, \u001b[38;5;34m6\u001b[0m)                   │              \u001b[38;5;34m12\u001b[0m │\n",
       "├──────────────────────────────────────┼─────────────────────────────┼─────────────────┤\n",
       "│ dense_28 (\u001b[38;5;33mDense\u001b[0m)                     │ (\u001b[38;5;45mNone\u001b[0m, \u001b[38;5;34m6\u001b[0m)                   │              \u001b[38;5;34m42\u001b[0m │\n",
       "├──────────────────────────────────────┼─────────────────────────────┼─────────────────┤\n",
       "│ dense_29 (\u001b[38;5;33mDense\u001b[0m)                     │ (\u001b[38;5;45mNone\u001b[0m, \u001b[38;5;34m6\u001b[0m)                   │              \u001b[38;5;34m42\u001b[0m │\n",
       "├──────────────────────────────────────┼─────────────────────────────┼─────────────────┤\n",
       "│ dense_30 (\u001b[38;5;33mDense\u001b[0m)                     │ (\u001b[38;5;45mNone\u001b[0m, \u001b[38;5;34m6\u001b[0m)                   │              \u001b[38;5;34m42\u001b[0m │\n",
       "├──────────────────────────────────────┼─────────────────────────────┼─────────────────┤\n",
       "│ dense_31 (\u001b[38;5;33mDense\u001b[0m)                     │ (\u001b[38;5;45mNone\u001b[0m, \u001b[38;5;34m1\u001b[0m)                   │               \u001b[38;5;34m7\u001b[0m │\n",
       "└──────────────────────────────────────┴─────────────────────────────┴─────────────────┘\n"
      ]
     },
     "metadata": {},
     "output_type": "display_data"
    },
    {
     "data": {
      "text/html": [
       "<pre style=\"white-space:pre;overflow-x:auto;line-height:normal;font-family:Menlo,'DejaVu Sans Mono',consolas,'Courier New',monospace\"><span style=\"font-weight: bold\"> Total params: </span><span style=\"color: #00af00; text-decoration-color: #00af00\">437</span> (1.71 KB)\n",
       "</pre>\n"
      ],
      "text/plain": [
       "\u001b[1m Total params: \u001b[0m\u001b[38;5;34m437\u001b[0m (1.71 KB)\n"
      ]
     },
     "metadata": {},
     "output_type": "display_data"
    },
    {
     "data": {
      "text/html": [
       "<pre style=\"white-space:pre;overflow-x:auto;line-height:normal;font-family:Menlo,'DejaVu Sans Mono',consolas,'Courier New',monospace\"><span style=\"font-weight: bold\"> Trainable params: </span><span style=\"color: #00af00; text-decoration-color: #00af00\">145</span> (580.00 B)\n",
       "</pre>\n"
      ],
      "text/plain": [
       "\u001b[1m Trainable params: \u001b[0m\u001b[38;5;34m145\u001b[0m (580.00 B)\n"
      ]
     },
     "metadata": {},
     "output_type": "display_data"
    },
    {
     "data": {
      "text/html": [
       "<pre style=\"white-space:pre;overflow-x:auto;line-height:normal;font-family:Menlo,'DejaVu Sans Mono',consolas,'Courier New',monospace\"><span style=\"font-weight: bold\"> Non-trainable params: </span><span style=\"color: #00af00; text-decoration-color: #00af00\">0</span> (0.00 B)\n",
       "</pre>\n"
      ],
      "text/plain": [
       "\u001b[1m Non-trainable params: \u001b[0m\u001b[38;5;34m0\u001b[0m (0.00 B)\n"
      ]
     },
     "metadata": {},
     "output_type": "display_data"
    },
    {
     "data": {
      "text/html": [
       "<pre style=\"white-space:pre;overflow-x:auto;line-height:normal;font-family:Menlo,'DejaVu Sans Mono',consolas,'Courier New',monospace\"><span style=\"font-weight: bold\"> Optimizer params: </span><span style=\"color: #00af00; text-decoration-color: #00af00\">292</span> (1.14 KB)\n",
       "</pre>\n"
      ],
      "text/plain": [
       "\u001b[1m Optimizer params: \u001b[0m\u001b[38;5;34m292\u001b[0m (1.14 KB)\n"
      ]
     },
     "metadata": {},
     "output_type": "display_data"
    },
    {
     "name": "stdout",
     "output_type": "stream",
     "text": [
      "WARNING:tensorflow:6 out of the last 8 calls to <function TensorFlowTrainer.make_predict_function.<locals>.one_step_on_data_distributed at 0x000001A693F5AE50> triggered tf.function retracing. Tracing is expensive and the excessive number of tracings could be due to (1) creating @tf.function repeatedly in a loop, (2) passing tensors with different shapes, (3) passing Python objects instead of tensors. For (1), please define your @tf.function outside of the loop. For (2), @tf.function has reduce_retracing=True option that can avoid unnecessary retracing. For (3), please refer to https://www.tensorflow.org/guide/function#controlling_retracing and https://www.tensorflow.org/api_docs/python/tf/function for  more details.\n",
      "\u001b[1m4/4\u001b[0m \u001b[32m━━━━━━━━━━━━━━━━━━━━\u001b[0m\u001b[37m\u001b[0m \u001b[1m0s\u001b[0m 18ms/step\n",
      "[0.0] => 0.00 (expected 0.00)\n",
      "[10.0] => 1.38 (expected 1.39)\n",
      "[20.0] => 1.53 (expected 1.53)\n",
      "[30.0] => 1.62 (expected 1.63)\n",
      "[40.0] => 1.69 (expected 1.69)\n",
      "[50.0] => 1.74 (expected 1.75)\n",
      "[60.0] => 1.79 (expected 1.79)\n",
      "[70.0] => 1.83 (expected 1.83)\n",
      "[80.0] => 1.87 (expected 1.87)\n",
      "[90.0] => 1.90 (expected 1.90)\n",
      "[100.0] => 1.93 (expected 1.93)\n"
     ]
    }
   ],
   "source": [
    "import tensorflow as tf\n",
    "from numpy import loadtxt\n",
    "from keras.models import Sequential\n",
    "from keras.layers import Dense\n",
    "from keras import optimizers\n",
    "from tensorflow.python.keras.optimizers import *\n",
    "import numpy as np\n",
    "\n",
    "#Load dataset\n",
    "#split into input (X) and output (y)\n",
    "X = np.linspace(0,100,101)\n",
    "X = X.reshape(-1, 1)\n",
    "y = np.array([i**(1/7) for i in X])\n",
    "y = y.reshape(-1, 1)\n",
    "\n",
    "\n",
    "#define keras model\n",
    "model = Sequential()\n",
    "\n",
    "model.add(Dense(6,input_dim=1,activation='relu'))\n",
    "model.add(Dense(6,activation='relu'))\n",
    "model.add(Dense(6,activation='relu'))\n",
    "model.add(Dense(6,activation='relu'))\n",
    "model.add(Dense(1))\n",
    "\n",
    "#compile the keras model\n",
    "opt = optimizers.Adam(learning_rate=0.001)\n",
    "mse = tf.keras.losses.MeanSquaredError(\n",
    "    reduction=tf.keras.losses.Reduction.SUM)\n",
    "model.compile(loss=mse, optimizer=opt)\n",
    "\n",
    "\n",
    "#fit the keras model on the dataset (CPU)\n",
    "model.fit(X,y,epochs=2000,batch_size=10, verbose=0)\n",
    "model.summary()\n",
    "\n",
    "#make class predictions with the model\n",
    "predictions = model.predict(X)\n",
    "\n",
    "#summarize the first 10 cases\n",
    "for i in range(0,110,10):\n",
    "    print('%s => %.2f (expected %.2f)' %(X[i].tolist(), predictions[i], y[i]) )"
   ]
  },
  {
   "cell_type": "markdown",
   "id": "b6ac7127",
   "metadata": {},
   "source": [
    "# Part 6 \n",
    "(40 pts.) Use the Iris dataset and the neural network code shown in class to create a\n",
    "neural network model that takes sepal length as input and predicts petal length as output.\n",
    "[Hint: Use Numpy or Pandas to wrangle Iris dataset to help define your input and output.\n",
    "You are free to define the number of neurons in each layer.]\n"
   ]
  },
  {
   "cell_type": "code",
   "execution_count": 33,
   "id": "d8be7e2c",
   "metadata": {},
   "outputs": [
    {
     "data": {
      "text/html": [
       "<pre style=\"white-space:pre;overflow-x:auto;line-height:normal;font-family:Menlo,'DejaVu Sans Mono',consolas,'Courier New',monospace\"><span style=\"font-weight: bold\">Model: \"sequential_8\"</span>\n",
       "</pre>\n"
      ],
      "text/plain": [
       "\u001b[1mModel: \"sequential_8\"\u001b[0m\n"
      ]
     },
     "metadata": {},
     "output_type": "display_data"
    },
    {
     "data": {
      "text/html": [
       "<pre style=\"white-space:pre;overflow-x:auto;line-height:normal;font-family:Menlo,'DejaVu Sans Mono',consolas,'Courier New',monospace\">┏━━━━━━━━━━━━━━━━━━━━━━━━━━━━━━━━━━━━━━┳━━━━━━━━━━━━━━━━━━━━━━━━━━━━━┳━━━━━━━━━━━━━━━━━┓\n",
       "┃<span style=\"font-weight: bold\"> Layer (type)                         </span>┃<span style=\"font-weight: bold\"> Output Shape                </span>┃<span style=\"font-weight: bold\">         Param # </span>┃\n",
       "┡━━━━━━━━━━━━━━━━━━━━━━━━━━━━━━━━━━━━━━╇━━━━━━━━━━━━━━━━━━━━━━━━━━━━━╇━━━━━━━━━━━━━━━━━┩\n",
       "│ dense_37 (<span style=\"color: #0087ff; text-decoration-color: #0087ff\">Dense</span>)                     │ (<span style=\"color: #00d7ff; text-decoration-color: #00d7ff\">None</span>, <span style=\"color: #00af00; text-decoration-color: #00af00\">16</span>)                  │              <span style=\"color: #00af00; text-decoration-color: #00af00\">32</span> │\n",
       "├──────────────────────────────────────┼─────────────────────────────┼─────────────────┤\n",
       "│ dense_38 (<span style=\"color: #0087ff; text-decoration-color: #0087ff\">Dense</span>)                     │ (<span style=\"color: #00d7ff; text-decoration-color: #00d7ff\">None</span>, <span style=\"color: #00af00; text-decoration-color: #00af00\">8</span>)                   │             <span style=\"color: #00af00; text-decoration-color: #00af00\">136</span> │\n",
       "├──────────────────────────────────────┼─────────────────────────────┼─────────────────┤\n",
       "│ dense_39 (<span style=\"color: #0087ff; text-decoration-color: #0087ff\">Dense</span>)                     │ (<span style=\"color: #00d7ff; text-decoration-color: #00d7ff\">None</span>, <span style=\"color: #00af00; text-decoration-color: #00af00\">4</span>)                   │              <span style=\"color: #00af00; text-decoration-color: #00af00\">36</span> │\n",
       "├──────────────────────────────────────┼─────────────────────────────┼─────────────────┤\n",
       "│ dense_40 (<span style=\"color: #0087ff; text-decoration-color: #0087ff\">Dense</span>)                     │ (<span style=\"color: #00d7ff; text-decoration-color: #00d7ff\">None</span>, <span style=\"color: #00af00; text-decoration-color: #00af00\">2</span>)                   │              <span style=\"color: #00af00; text-decoration-color: #00af00\">10</span> │\n",
       "├──────────────────────────────────────┼─────────────────────────────┼─────────────────┤\n",
       "│ dense_41 (<span style=\"color: #0087ff; text-decoration-color: #0087ff\">Dense</span>)                     │ (<span style=\"color: #00d7ff; text-decoration-color: #00d7ff\">None</span>, <span style=\"color: #00af00; text-decoration-color: #00af00\">1</span>)                   │               <span style=\"color: #00af00; text-decoration-color: #00af00\">3</span> │\n",
       "└──────────────────────────────────────┴─────────────────────────────┴─────────────────┘\n",
       "</pre>\n"
      ],
      "text/plain": [
       "┏━━━━━━━━━━━━━━━━━━━━━━━━━━━━━━━━━━━━━━┳━━━━━━━━━━━━━━━━━━━━━━━━━━━━━┳━━━━━━━━━━━━━━━━━┓\n",
       "┃\u001b[1m \u001b[0m\u001b[1mLayer (type)                        \u001b[0m\u001b[1m \u001b[0m┃\u001b[1m \u001b[0m\u001b[1mOutput Shape               \u001b[0m\u001b[1m \u001b[0m┃\u001b[1m \u001b[0m\u001b[1m        Param #\u001b[0m\u001b[1m \u001b[0m┃\n",
       "┡━━━━━━━━━━━━━━━━━━━━━━━━━━━━━━━━━━━━━━╇━━━━━━━━━━━━━━━━━━━━━━━━━━━━━╇━━━━━━━━━━━━━━━━━┩\n",
       "│ dense_37 (\u001b[38;5;33mDense\u001b[0m)                     │ (\u001b[38;5;45mNone\u001b[0m, \u001b[38;5;34m16\u001b[0m)                  │              \u001b[38;5;34m32\u001b[0m │\n",
       "├──────────────────────────────────────┼─────────────────────────────┼─────────────────┤\n",
       "│ dense_38 (\u001b[38;5;33mDense\u001b[0m)                     │ (\u001b[38;5;45mNone\u001b[0m, \u001b[38;5;34m8\u001b[0m)                   │             \u001b[38;5;34m136\u001b[0m │\n",
       "├──────────────────────────────────────┼─────────────────────────────┼─────────────────┤\n",
       "│ dense_39 (\u001b[38;5;33mDense\u001b[0m)                     │ (\u001b[38;5;45mNone\u001b[0m, \u001b[38;5;34m4\u001b[0m)                   │              \u001b[38;5;34m36\u001b[0m │\n",
       "├──────────────────────────────────────┼─────────────────────────────┼─────────────────┤\n",
       "│ dense_40 (\u001b[38;5;33mDense\u001b[0m)                     │ (\u001b[38;5;45mNone\u001b[0m, \u001b[38;5;34m2\u001b[0m)                   │              \u001b[38;5;34m10\u001b[0m │\n",
       "├──────────────────────────────────────┼─────────────────────────────┼─────────────────┤\n",
       "│ dense_41 (\u001b[38;5;33mDense\u001b[0m)                     │ (\u001b[38;5;45mNone\u001b[0m, \u001b[38;5;34m1\u001b[0m)                   │               \u001b[38;5;34m3\u001b[0m │\n",
       "└──────────────────────────────────────┴─────────────────────────────┴─────────────────┘\n"
      ]
     },
     "metadata": {},
     "output_type": "display_data"
    },
    {
     "data": {
      "text/html": [
       "<pre style=\"white-space:pre;overflow-x:auto;line-height:normal;font-family:Menlo,'DejaVu Sans Mono',consolas,'Courier New',monospace\"><span style=\"font-weight: bold\"> Total params: </span><span style=\"color: #00af00; text-decoration-color: #00af00\">653</span> (2.55 KB)\n",
       "</pre>\n"
      ],
      "text/plain": [
       "\u001b[1m Total params: \u001b[0m\u001b[38;5;34m653\u001b[0m (2.55 KB)\n"
      ]
     },
     "metadata": {},
     "output_type": "display_data"
    },
    {
     "data": {
      "text/html": [
       "<pre style=\"white-space:pre;overflow-x:auto;line-height:normal;font-family:Menlo,'DejaVu Sans Mono',consolas,'Courier New',monospace\"><span style=\"font-weight: bold\"> Trainable params: </span><span style=\"color: #00af00; text-decoration-color: #00af00\">217</span> (868.00 B)\n",
       "</pre>\n"
      ],
      "text/plain": [
       "\u001b[1m Trainable params: \u001b[0m\u001b[38;5;34m217\u001b[0m (868.00 B)\n"
      ]
     },
     "metadata": {},
     "output_type": "display_data"
    },
    {
     "data": {
      "text/html": [
       "<pre style=\"white-space:pre;overflow-x:auto;line-height:normal;font-family:Menlo,'DejaVu Sans Mono',consolas,'Courier New',monospace\"><span style=\"font-weight: bold\"> Non-trainable params: </span><span style=\"color: #00af00; text-decoration-color: #00af00\">0</span> (0.00 B)\n",
       "</pre>\n"
      ],
      "text/plain": [
       "\u001b[1m Non-trainable params: \u001b[0m\u001b[38;5;34m0\u001b[0m (0.00 B)\n"
      ]
     },
     "metadata": {},
     "output_type": "display_data"
    },
    {
     "data": {
      "text/html": [
       "<pre style=\"white-space:pre;overflow-x:auto;line-height:normal;font-family:Menlo,'DejaVu Sans Mono',consolas,'Courier New',monospace\"><span style=\"font-weight: bold\"> Optimizer params: </span><span style=\"color: #00af00; text-decoration-color: #00af00\">436</span> (1.71 KB)\n",
       "</pre>\n"
      ],
      "text/plain": [
       "\u001b[1m Optimizer params: \u001b[0m\u001b[38;5;34m436\u001b[0m (1.71 KB)\n"
      ]
     },
     "metadata": {},
     "output_type": "display_data"
    },
    {
     "name": "stdout",
     "output_type": "stream",
     "text": [
      "\u001b[1m2/2\u001b[0m \u001b[32m━━━━━━━━━━━━━━━━━━━━\u001b[0m\u001b[37m\u001b[0m \u001b[1m0s\u001b[0m 55ms/step\n",
      "Sepal length: 6.30 => Predicted Petal length: 4.61 (Actual: 4.90)\n",
      "Sepal length: 6.80 => Predicted Petal length: 5.54 (Actual: 5.50)\n",
      "Sepal length: 6.40 => Predicted Petal length: 4.80 (Actual: 5.60)\n",
      "Sepal length: 5.60 => Predicted Petal length: 3.31 (Actual: 4.10)\n",
      "Sepal length: 4.90 => Predicted Petal length: 2.01 (Actual: 1.40)\n",
      "Sepal length: 6.00 => Predicted Petal length: 4.05 (Actual: 4.80)\n",
      "Sepal length: 6.30 => Predicted Petal length: 4.61 (Actual: 4.40)\n",
      "Sepal length: 4.40 => Predicted Petal length: 1.09 (Actual: 1.30)\n",
      "Sepal length: 4.40 => Predicted Petal length: 1.09 (Actual: 1.40)\n",
      "Sepal length: 5.50 => Predicted Petal length: 3.13 (Actual: 4.40)\n"
     ]
    }
   ],
   "source": [
    "from keras.models import Sequential\n",
    "from keras.layers import Dense\n",
    "from keras import optimizers\n",
    "\n",
    "X = iris.data[:, 0]  # Sepal length (first column)\n",
    "y = iris.data[:, 2]  # Petal length (third column)\n",
    "\n",
    "X = X.reshape(-1, 1)\n",
    "\n",
    "X_train, X_test, y_train, y_test = train_test_split(\n",
    "    X, y, test_size=0.40, train_size=0.60, random_state=123, shuffle=True)\n",
    "\n",
    "model = Sequential()\n",
    "model.add(Dense(16,input_dim=1,activation='relu'))\n",
    "model.add(Dense(8,activation='relu'))\n",
    "model.add(Dense(4,activation='relu'))\n",
    "model.add(Dense(2,activation='relu'))\n",
    "model.add(Dense(1))\n",
    "\n",
    "\n",
    "opt = optimizers.Adam(learning_rate=0.001)\n",
    "mse = tf.keras.losses.MeanSquaredError(\n",
    "    reduction=tf.keras.losses.Reduction.SUM)\n",
    "model.compile(loss=mse, optimizer=opt)\n",
    "\n",
    "model.fit(X,y,epochs=2000,batch_size=10, verbose=0)\n",
    "model.summary()\n",
    "\n",
    "predictions = model.predict(X_test)\n",
    "\n",
    "for i in range(10):\n",
    "    print(f'Sepal length: {X_test[i][0]:.2f} => Predicted Petal length: {predictions[i][0]:.2f} (Actual: {y_test[i]:.2f})')"
   ]
  },
  {
   "cell_type": "code",
   "execution_count": null,
   "id": "f4d06d2a",
   "metadata": {},
   "outputs": [],
   "source": []
  }
 ],
 "metadata": {
  "kernelspec": {
   "display_name": "Python 3 (ipykernel)",
   "language": "python",
   "name": "python3"
  },
  "language_info": {
   "codemirror_mode": {
    "name": "ipython",
    "version": 3
   },
   "file_extension": ".py",
   "mimetype": "text/x-python",
   "name": "python",
   "nbconvert_exporter": "python",
   "pygments_lexer": "ipython3",
   "version": "3.9.13"
  }
 },
 "nbformat": 4,
 "nbformat_minor": 5
}
